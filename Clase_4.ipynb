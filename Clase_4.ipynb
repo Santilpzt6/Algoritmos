{
  "nbformat": 4,
  "nbformat_minor": 0,
  "metadata": {
    "colab": {
      "provenance": []
    },
    "kernelspec": {
      "name": "python3",
      "display_name": "Python 3"
    },
    "language_info": {
      "name": "python"
    }
  },
  "cells": [
    {
      "cell_type": "code",
      "execution_count": null,
      "metadata": {
        "id": "UuScpJA3venL"
      },
      "outputs": [],
      "source": []
    },
    {
      "cell_type": "markdown",
      "source": [],
      "metadata": {
        "id": "OYnLnlBOwses"
      }
    },
    {
      "cell_type": "markdown",
      "source": [
        "#Las funciones lambda y map\n",
        "\n",
        "Vamos a ver la funcion inntegrada [map](https://docs.python.org/3/library/functions.html#map)\n",
        "  \n",
        "$$lambda= x:x**2$$\n",
        "\n",
        "###Elevar al cuadrado una lista de números\n",
        "\n",
        "numeros = [1, 2, 3, 4, 5]\n",
        "cuadrados = list(map(lambda x: x**2, numeros))\n",
        "print(cuadrados)  # Salida: [1, 4, 9, 16, 25]\n",
        "\n",
        "###Convertir una lista de temperaturas de Celsius a Fahrenheit\n",
        "\n",
        "celsius = [0, 20, 30, 40]\n",
        "fahrenheit = list(map(lambda x: (x * 9/5) + 32, celsius))\n",
        "print(fahrenheit)  # Salida: [32.0, 68.0, 86.0, 104.0]\n",
        "\n",
        "###Sumar dos listas elemento a elemento\n",
        "\n",
        "\n",
        "lista1 = [1, 2, 3]\n",
        "lista2 = [4, 5, 6]\n",
        "suma = list(map(lambda x, y: x + y, lista1, lista2))\n",
        "print(suma)  # Salida: [5, 7, 9]\n",
        "\n",
        "### Obtener la longitud de cada palabra en una lista\n",
        "\n",
        "palabras = [\"hola\", \"mundo\", \"Python\"]\n",
        "longitudes = list(map(lambda palabra: len(palabra), palabras))\n",
        "print(longitudes)  # Salida: [4, 5, 6]\n",
        "\n",
        "### Convertir una lista de cadenas a mayúsculas\n",
        "\n",
        "frutas = [\"manzana\", \"pera\", \"uva\"]\n",
        "mayusculas = list(map(lambda fruta: fruta.upper(), frutas))\n",
        "print(mayusculas)  # Salida: ['MANZANA', 'PERA', 'UVA']\n",
        "\n",
        "\n",
        "\n",
        "\n"
      ],
      "metadata": {
        "id": "eQFIMXA2wsiJ"
      }
    },
    {
      "cell_type": "code",
      "source": [
        "numeros = [1, 2, 3, 4, 5]\n",
        "cuadrados = list(map(lambda x: x**2, numeros))\n",
        "print(cuadrados)"
      ],
      "metadata": {
        "colab": {
          "base_uri": "https://localhost:8080/"
        },
        "id": "dDz5Wr6w4AS7",
        "outputId": "07c10c16-7752-4f13-e72d-a7e8ce7dbf66"
      },
      "execution_count": 1,
      "outputs": [
        {
          "output_type": "stream",
          "name": "stdout",
          "text": [
            "[1, 4, 9, 16, 25]\n"
          ]
        }
      ]
    },
    {
      "cell_type": "code",
      "source": [
        "celsius = [0, 20, 30, 40]\n",
        "fahrenheit = list(map(lambda x: (x * 9/5) + 32, celsius))\n",
        "print(fahrenheit)"
      ],
      "metadata": {
        "colab": {
          "base_uri": "https://localhost:8080/"
        },
        "id": "iwGkYdqn4KFH",
        "outputId": "0323f20a-cf5c-4d4a-f766-7dc6511f9def"
      },
      "execution_count": 2,
      "outputs": [
        {
          "output_type": "stream",
          "name": "stdout",
          "text": [
            "[32.0, 68.0, 86.0, 104.0]\n"
          ]
        }
      ]
    },
    {
      "cell_type": "code",
      "source": [
        "lista1 = [1, 2, 3]\n",
        "lista2 = [4, 5, 6]\n",
        "suma = list(map(lambda x, y: x + y, lista1, lista2))\n",
        "print(suma)"
      ],
      "metadata": {
        "colab": {
          "base_uri": "https://localhost:8080/"
        },
        "id": "ZVEWql6i4Tjn",
        "outputId": "357260c2-3ab0-4b7c-9d5f-98d852a0e3d7"
      },
      "execution_count": 4,
      "outputs": [
        {
          "output_type": "stream",
          "name": "stdout",
          "text": [
            "[5, 7, 9]\n"
          ]
        }
      ]
    },
    {
      "cell_type": "code",
      "source": [
        "palabras = [\"hola\", \"mundo\", \"Python\"]\n",
        "longitudes = list(map(lambda palabra: len(palabra), palabras))\n",
        "print(longitudes)"
      ],
      "metadata": {
        "colab": {
          "base_uri": "https://localhost:8080/"
        },
        "id": "c0ArCl6n4eSv",
        "outputId": "b135b265-b30b-44d7-9ce6-53af5545d268"
      },
      "execution_count": 5,
      "outputs": [
        {
          "output_type": "stream",
          "name": "stdout",
          "text": [
            "[4, 5, 6]\n"
          ]
        }
      ]
    },
    {
      "cell_type": "code",
      "source": [
        "frutas = [\"manzana\", \"pera\", \"uva\"]\n",
        "mayusculas = list(map(lambda fruta: fruta.upper(), frutas))\n",
        "print(mayusculas)"
      ],
      "metadata": {
        "colab": {
          "base_uri": "https://localhost:8080/"
        },
        "id": "vlMIz4zp4k8L",
        "outputId": "888e8c02-9cfe-4605-ea05-75d8d41e37df"
      },
      "execution_count": 6,
      "outputs": [
        {
          "output_type": "stream",
          "name": "stdout",
          "text": [
            "['MANZANA', 'PERA', 'UVA']\n"
          ]
        }
      ]
    }
  ]
}